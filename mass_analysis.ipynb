{
 "cells": [
  {
   "cell_type": "code",
   "execution_count": null,
   "id": "1e3ab136-044a-45e2-afdd-cf2668375c51",
   "metadata": {},
   "outputs": [],
   "source": [
    "import numpy as np\n",
    "import matplotlib.pyplot as plt\n",
    "from scipy import optimize"
   ]
  },
  {
   "cell_type": "code",
   "execution_count": null,
   "id": "a7d40230-b50a-477e-b42e-5b678f2d8ac4",
   "metadata": {},
   "outputs": [],
   "source": [
    "def Datos(path):\n",
    "    data = [[],[],[]]\n",
    "    with open(path) as fobj:\n",
    "        for i, line in enumerate(fobj):\n",
    "           # data.append([])\n",
    "            if line.rsplit() != []:\n",
    "                row = line.rsplit()   \n",
    "                for j in range(len(row)):\n",
    "                    data[j].append(float(row[j]))     \n",
    "    return np.array(data)\n",
    "\n",
    "def EffectiveMass(Corr,Nt):\n",
    "    #We need the root of this function\n",
    "    def f(x,Corr,t):\n",
    "        return Corr[t]/Corr[(t+1)%Nt] - np.cosh((x * (t-Nt/2)))/ np.cosh(x * ((t+1)%Nt-Nt/2))\n",
    "    meff = []\n",
    "    for t in range(Nt):\n",
    "        sol = optimize.root_scalar(f, args=(Corr,t), method='secant', x0=0.5, x1=1, xtol=1e-15, rtol=1e-15, maxiter=1000)\n",
    "        if sol.converged == True:\n",
    "            meff.append(sol.root)\n",
    "        else:\n",
    "            print(\"Solution not found for t={0}\".format(t))\n",
    "            meff.append(np.nan)\n",
    "    return np.array(meff)\n",
    "        \n",
    "        "
   ]
  },
  {
   "cell_type": "code",
   "execution_count": null,
   "id": "3b82900f-b124-44df-b201-aa7433533ac0",
   "metadata": {},
   "outputs": [],
   "source": [
    "beta, Nx, Nt = 2, 16, 16\n",
    "if beta == 3:\n",
    "    masses = [-0.5,-0.4,-0.3,-0.2,-0.15,-0.1,0.05,0.1,0.15]\n",
    "elif beta == 2:\n",
    "    masses = [-0.16]\n",
    "\n",
    "plt.title(r'Correlation function, $N_x$={0}, $N_t={1}$, $\\beta$={2}'.format(Nx,Nt,beta))\n",
    "plt.ylabel(r'$|c(t)|$')\n",
    "plt.xlabel(r\"$t$\")\n",
    "\n",
    "for m0 in masses:\n",
    "    path = 'confs/b{0}_{1}x{2}/2D_U1_Ns{1}_Nt{2}_b{0}_m{3}_corr.txt'.format(beta,Nx,Nt,str(m0).replace(\".\",\"\"))\n",
    "    t, Corr, dCorr = Datos(path)\n",
    "    Corr = abs(Corr)\n",
    "    plt.errorbar(t,Corr,yerr=dCorr,\\\n",
    "        fmt='*',markersize='5',elinewidth=0.5,solid_capstyle='projecting',label='$m_0=${0}'.format(m0), capsize=1.5)\n",
    "plt.yscale('log')\n",
    "plt.legend()\n",
    "plt.show()"
   ]
  },
  {
   "cell_type": "code",
   "execution_count": null,
   "id": "110b6041-faa0-4bb6-8b9f-382b2aea3e3e",
   "metadata": {},
   "outputs": [],
   "source": [
    "plt.title(r'Effective mass, $N_x$={0}, $N_t={1}$, $\\beta$={2}'.format(Nx,Nt,beta))\n",
    "plt.ylabel(r'$m_{eff}(t)$')\n",
    "plt.xlabel(r\"$t$\")\n",
    "\n",
    "for m0 in masses:\n",
    "    path = 'confs/b{0}_{1}x{2}/2D_U1_Ns{1}_Nt{2}_b{0}_m{3}_corr.txt'.format(beta,Nx,Nt,str(m0).replace(\".\",\"\"))\n",
    "    t, Corr, dCorr = Datos(path)\n",
    "    Corr = abs(Corr)\n",
    "    meff = EffectiveMass(Corr,Nt)\n",
    "    plt.errorbar(t,meff,yerr=meff*0,\\\n",
    "        fmt='*',markersize='5',elinewidth=0.5,solid_capstyle='projecting',label='$m_0=${0}'.format(m0), capsize=1.5)\n",
    "#plt.yscale('log')\n",
    "plt.legend()\n",
    "plt.show()"
   ]
  },
  {
   "cell_type": "code",
   "execution_count": null,
   "id": "cd6d07cf-805c-4c10-a95f-31a8b1dae7f2",
   "metadata": {},
   "outputs": [],
   "source": []
  }
 ],
 "metadata": {
  "kernelspec": {
   "display_name": "Python [conda env:base] *",
   "language": "python",
   "name": "conda-base-py"
  },
  "language_info": {
   "codemirror_mode": {
    "name": "ipython",
    "version": 3
   },
   "file_extension": ".py",
   "mimetype": "text/x-python",
   "name": "python",
   "nbconvert_exporter": "python",
   "pygments_lexer": "ipython3",
   "version": "3.12.7"
  }
 },
 "nbformat": 4,
 "nbformat_minor": 5
}
