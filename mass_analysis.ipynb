{
 "cells": [
  {
   "cell_type": "markdown",
   "id": "5fc95919-94f9-4d23-af34-f54e6c24f781",
   "metadata": {},
   "source": [
    "# $m_\\pi$ analysis\n",
    "\n",
    "Program for measuring the pion mass. It computes the effective mass and fits the plateau. The correlation function is assumed to be precomputed."
   ]
  },
  {
   "cell_type": "code",
   "execution_count": 1,
   "id": "1e3ab136-044a-45e2-afdd-cf2668375c51",
   "metadata": {},
   "outputs": [],
   "source": [
    "import numpy as np\n",
    "import matplotlib.pyplot as plt\n",
    "from scipy import optimize\n",
    "from scipy.optimize import curve_fit"
   ]
  },
  {
   "cell_type": "code",
   "execution_count": 2,
   "id": "a7d40230-b50a-477e-b42e-5b678f2d8ac4",
   "metadata": {},
   "outputs": [],
   "source": [
    "def Datos(path):\n",
    "    data = [[],[],[]]\n",
    "    with open(path) as fobj:\n",
    "        for i, line in enumerate(fobj):\n",
    "           # data.append([])\n",
    "            if line.rsplit() != []:\n",
    "                row = line.rsplit()   \n",
    "                for j in range(len(row)):\n",
    "                    data[j].append(float(row[j]))     \n",
    "    return np.array(data)\n",
    "\n",
    "def EffectiveMass(Corr,Nt):\n",
    "    #We need the root of this function\n",
    "    def f(x,Corr,t):\n",
    "        #return Corr[t]/Corr[(t+1)%Nt] - np.cosh(x * (t-Nt/2))/ np.cosh(x * ( (t+1)%Nt - Nt/2 ))\n",
    "        return Corr[t]/Corr[(t+1)%Nt] - np.cosh(x * (t-Nt/2))/ np.cosh(x * ( (t+1) - Nt/2 ))\n",
    "    meff = []\n",
    "    for t in range(Nt):\n",
    "        sol = optimize.root_scalar(f, args=(Corr,t), method='secant', x0=0.5, x1=1, xtol=1e-15, rtol=1e-15, maxiter=1000)\n",
    "        if sol.converged == True:\n",
    "            meff.append(sol.root)\n",
    "        else:\n",
    "            print(\"Solution not found for t={0}\".format(t))\n",
    "            meff.append(np.nan)\n",
    "    return np.array(meff)\n",
    "\n",
    "def func(x, a, b):\n",
    "    return a*np.exp((Nt/2-x)*b)\n",
    "\n",
    "def kappa2mass(kappa):\n",
    "    return 1/(2*kappa)-2\n",
    "\n",
    "def mass2kappa(m0):\n",
    "    return 1/(2*(m0+2))\n",
    "\n",
    "def format_number(number):\n",
    "    # Format the number with 2 decimal places\n",
    "    s = f\"{number:.2f}\"\n",
    "    # Remove the decimal point\n",
    "    s = s.replace('.', '')\n",
    "    if number == kappa2mass(0.247):\n",
    "        s = '0024'\n",
    "    return s"
   ]
  },
  {
   "cell_type": "code",
   "execution_count": 6,
   "id": "390baf3f-c153-4e4f-88f3-df253c664b42",
   "metadata": {
    "scrolled": true
   },
   "outputs": [
    {
     "data": {
      "text/plain": [
       "0.016129032258064502"
      ]
     },
     "execution_count": 6,
     "metadata": {},
     "output_type": "execute_result"
    }
   ],
   "source": [
    "kappa2mass(0.248)"
   ]
  },
  {
   "cell_type": "code",
   "execution_count": 7,
   "id": "b65cd25d-262a-45bc-9a8e-54687728f1b7",
   "metadata": {},
   "outputs": [
    {
     "data": {
      "text/plain": [
       "'002'"
      ]
     },
     "execution_count": 7,
     "metadata": {},
     "output_type": "execute_result"
    }
   ],
   "source": [
    "format_number(kappa2mass(0.248))"
   ]
  },
  {
   "cell_type": "code",
   "execution_count": 8,
   "id": "3b82900f-b124-44df-b201-aa7433533ac0",
   "metadata": {},
   "outputs": [
    {
     "data": {
      "image/png": "[encoded data removed]",
      "text/plain": [
       "<Figure size 640x480 with 1 Axes>"
      ]
     },
     "metadata": {},
     "output_type": "display_data"
    }
   ],
   "source": [
    "beta, Nx, Nt = 4, 64, 64\n",
    "#masses = [kappa2mass(0.259),kappa2mass(0.255),kappa2mass(0.252),kappa2mass(0.251),kappa2mass(0.248),kappa2mass(0.247)]\n",
    "masses = [kappa2mass(0.248)]\n",
    "\n",
    "plt.title(r'Correlation function, $N_x$={0}, $N_t={1}$, $\\beta$={2}'.format(Nx,Nt,beta))\n",
    "plt.ylabel(r'$|c(t)|$')\n",
    "plt.xlabel(r\"$t$\")\n",
    "\n",
    "for m0 in masses:\n",
    "    #path = 'confs/b{0}_{1}x{2}/2D_U1_Ns{1}_Nt{2}_b{0}_m{3}_corr.txt'.format(beta,Nx,Nt,format_number(m0))\n",
    "    path = 'build/b{0}_{1}x{2}/2D_U1_Ns{1}_Nt{2}_b{0}_m{3}_corr.txt'.format(beta,Nx,Nt,format_number(m0))\n",
    "    t, Corr, dCorr = Datos(path)\n",
    "    Corr = abs(Corr)\n",
    "    plt.errorbar(t,Corr,yerr=dCorr,\\\n",
    "        fmt='*',markersize='5',elinewidth=0.5,solid_capstyle='projecting',label='$m_0=${0}'.format(np.round(m0,3)), capsize=1.5)\n",
    "plt.yscale('log')\n",
    "plt.legend()\n",
    "plt.show()"
   ]
  },
  {
   "cell_type": "code",
   "execution_count": 9,
   "id": "39fa06bd-b92e-4eee-b568-53231f9ddffd",
   "metadata": {
    "scrolled": true
   },
   "outputs": [
    {
     "name": "stdout",
     "output_type": "stream",
     "text": [
      "C(0)= 0.07305925 +- 0.0001845254\n",
      "C(1)= 0.02030584 +- 9.742812e-05\n",
      "C(2)= 0.01109735 +- 8.135905e-05\n",
      "C(3)= 0.006936038 +- 6.022113e-05\n",
      "C(4)= 0.004577192 +- 4.115173e-05\n",
      "C(5)= 0.003097075 +- 3.002177e-05\n",
      "C(6)= 0.002119688 +- 2.251526e-05\n",
      "C(7)= 0.001448647 +- 1.646397e-05\n",
      "C(8)= 0.0009962076 +- 1.193909e-05\n",
      "C(9)= 0.000679271 +- 8.996906e-06\n",
      "C(10)= 0.0004608494 +- 6.613075e-06\n",
      "C(11)= 0.0003141328 +- 4.668782e-06\n",
      "C(12)= 0.0002142372 +- 3.42933e-06\n",
      "C(13)= 0.0001471406 +- 2.638024e-06\n",
      "C(14)= 0.0001014124 +- 2.067102e-06\n",
      "C(15)= 6.996446e-05 +- 1.616271e-06\n",
      "C(16)= 4.826569e-05 +- 1.23915e-06\n",
      "C(17)= 3.327865e-05 +- 9.393664e-07\n",
      "C(18)= 2.287718e-05 +- 6.873535e-07\n",
      "C(19)= 1.559081e-05 +- 4.730249e-07\n",
      "C(20)= 1.062767e-05 +- 3.235321e-07\n",
      "C(21)= 7.231936e-06 +- 2.163731e-07\n",
      "C(22)= 4.922392e-06 +- 1.458816e-07\n",
      "C(23)= 3.369823e-06 +- 1.008914e-07\n",
      "C(24)= 2.326423e-06 +- 7.459413e-08\n",
      "C(25)= 1.601226e-06 +- 5.569733e-08\n",
      "C(26)= 1.093347e-06 +- 4.122241e-08\n",
      "C(27)= 7.511982e-07 +- 3.052652e-08\n",
      "C(28)= 5.265212e-07 +- 2.267113e-08\n",
      "C(29)= 3.798986e-07 +- 1.608561e-08\n",
      "C(30)= 2.903469e-07 +- 1.233616e-08\n",
      "C(31)= 2.403405e-07 +- 1.004881e-08\n",
      "C(32)= 2.2448e-07 +- 9.115534e-09\n",
      "C(33)= 2.397146e-07 +- 9.75565e-09\n",
      "C(34)= 2.897372e-07 +- 1.254764e-08\n",
      "C(35)= 3.802588e-07 +- 1.739871e-08\n",
      "C(36)= 5.236896e-07 +- 2.415283e-08\n",
      "C(37)= 7.471312e-07 +- 3.377001e-08\n",
      "C(38)= 1.089539e-06 +- 4.830221e-08\n",
      "C(39)= 1.588303e-06 +- 6.795433e-08\n",
      "C(40)= 2.31871e-06 +- 9.178547e-08\n",
      "C(41)= 3.393246e-06 +- 1.221401e-07\n",
      "C(42)= 4.93773e-06 +- 1.645558e-07\n",
      "C(43)= 7.202143e-06 +- 2.24876e-07\n",
      "C(44)= 1.05028e-05 +- 3.156192e-07\n",
      "C(45)= 1.532704e-05 +- 4.648485e-07\n",
      "C(46)= 2.236625e-05 +- 6.597666e-07\n",
      "C(47)= 3.255747e-05 +- 8.850676e-07\n",
      "C(48)= 4.723515e-05 +- 1.158411e-06\n",
      "C(49)= 6.869075e-05 +- 1.55685e-06\n",
      "C(50)= 0.0001004585 +- 2.238782e-06\n",
      "C(51)= 0.0001464074 +- 3.272196e-06\n",
      "C(52)= 0.0002132062 +- 4.618002e-06\n",
      "C(53)= 0.0003110616 +- 6.375699e-06\n",
      "C(54)= 0.0004536465 +- 8.466105e-06\n",
      "C(55)= 0.0006653289 +- 1.13863e-05\n",
      "C(56)= 0.0009716454 +- 1.617934e-05\n",
      "C(57)= 0.001419363 +- 2.276256e-05\n",
      "C(58)= 0.002082888 +- 3.043096e-05\n",
      "C(59)= 0.003064465 +- 3.949824e-05\n",
      "C(60)= 0.004574944 +- 5.072336e-05\n",
      "C(61)= 0.006983837 +- 5.898595e-05\n",
      "C(62)= 0.01111701 +- 7.366549e-05\n",
      "C(63)= 0.02027464 +- 9.557111e-05\n"
     ]
    }
   ],
   "source": [
    "for t in range(Nt):\n",
    "    print('C({0})= {1} +- {2}'.format(t,Corr[t],dCorr[t]))"
   ]
  },
  {
   "cell_type": "code",
   "execution_count": 10,
   "id": "110b6041-faa0-4bb6-8b9f-382b2aea3e3e",
   "metadata": {},
   "outputs": [
    {
     "name": "stdout",
     "output_type": "stream",
     "text": [
      "m0 = 0.016, kappa = 0.248,  mpi = 0.378 +- 0.006\n"
     ]
    },
    {
     "data": {
      "image/png": "[encoded data removed]",
      "text/plain": [
       "<Figure size 960x720 with 1 Axes>"
      ]
     },
     "metadata": {},
     "output_type": "display_data"
    }
   ],
   "source": [
    "fig = plt.figure(dpi=150)\n",
    "plt.title(r'Effective mass, $N_x$={0}, $N_t={1}$, $\\beta$={2}'.format(Nx,Nt,beta))\n",
    "plt.ylabel(r'$m_{eff}(t)$')\n",
    "plt.xlabel(r\"$t$\")\n",
    "\n",
    "for m0 in masses:\n",
    "    #path = 'confs/b{0}_{1}x{2}/2D_U1_Ns{1}_Nt{2}_b{0}_m{3}_corr.txt'.format(beta,Nx,Nt,format_number(m0))\n",
    "    path = 'build/b{0}_{1}x{2}/2D_U1_Ns{1}_Nt{2}_b{0}_m{3}_corr.txt'.format(beta,Nx,Nt,format_number(m0))\n",
    "    t, Corr, dCorr = Datos(path)\n",
    "    Corr = abs(Corr)\n",
    "    meff = EffectiveMass(Corr,Nt)\n",
    "    plt.errorbar(t,meff,yerr=meff*0,\\\n",
    "        fmt='*',markersize='5',elinewidth=0.5,solid_capstyle='projecting',label='$m_0=${0}'.format(np.round(m0,3)), capsize=1.5)\n",
    "    print(\"m0 = {0}, kappa = {1},  mpi = {2} +- {3}\".format(np.round(m0,3),mass2kappa(m0), \n",
    "                                                                     np.round(np.mean(meff[11:30]),3),\n",
    "                                                                    np.round(np.std(meff[11:30]),3)))\n",
    "#plt.yscale('log')\n",
    "plt.legend() \n",
    "plt.show()\n",
    "#fig.savefig(\"meff.pdf\")"
   ]
  },
  {
   "cell_type": "code",
   "execution_count": 11,
   "id": "e73ef325-700c-4e64-b62e-01add9e6e7c8",
   "metadata": {},
   "outputs": [
    {
     "name": "stdout",
     "output_type": "stream",
     "text": [
      "mpi=0.377 +- 0.007\n"
     ]
    }
   ],
   "source": [
    "print(\"mpi={0} +- {1}\".format(np.round(0.3773428923847352,3),np.round(0.0068873628520349705,3))) "
   ]
  },
  {
   "cell_type": "code",
   "execution_count": null,
   "id": "78c8f7f8-83d0-4ce9-9470-882a03bf2309",
   "metadata": {},
   "outputs": [],
   "source": [
    "#popt, pcov = curve_fit(func, np.arange(Nt)[4:8], Corr[4:8],p0=[0.1,0.1])\n",
    "#print(popt)\n",
    "#plt.plot(np.arange(Nt), func(np.arange(Nt), *popt), 'r-',\n",
    "#         label='fit: a=%5.3f, b=%5.3f'% tuple(popt))\n",
    "#plt.scatter(np.arange(Nt),Corr)\n",
    "#plt.yscale('log')"
   ]
  },
  {
   "cell_type": "markdown",
   "id": "93135d88-30f5-468e-815e-46c904d284ef",
   "metadata": {},
   "source": [
    "## Fortran vs C++ results\n",
    "\n",
    "Comparing my simulation results with the Fortran code which I used long time ago an which is tested"
   ]
  },
  {
   "cell_type": "code",
   "execution_count": null,
   "id": "b8d93aef-b5c1-44e7-bb29-36d0090d3c93",
   "metadata": {},
   "outputs": [],
   "source": [
    "m0 = np.array([kappa2mass(0.25),kappa2mass(0.255),kappa2mass(0.26),kappa2mass(0.265)])\n",
    "mpi_C = np.array([0.5902800006825173,0.532153301674059, 0.439023713759679, 0.3518992029346969  ])\n",
    "dmpi_C = np.array([0.03879288389493793,0.04257417738305564, 0.01704753613144535, 0.00926040989633477 ]) #I don't use Jackknife here, only a naive error implementation \n",
    "\n",
    "mpi_F = np.array([0.59132032615137209,  0.52376242060378120,  0.45498548094226249, 0.37063943725059129])         \n",
    "dmpi_F = np.array([3.0800773884529045E-003, 2.7502998222633974E-003, 1.9926772819619885E-002, 1.6938266250340936E-002 ]) \n",
    "\n",
    "fig = plt.figure(dpi=150)\n",
    "plt.title(r'$m_\\pi$, $N_x$={0}, $N_t={1}$, $\\beta$={2}'.format(Nx,Nt,beta))\n",
    "plt.ylabel(r'$m_{\\pi}$')\n",
    "plt.xlabel(r\"$m_0$\")\n",
    "plt.errorbar(m0,mpi_C,yerr=dmpi_C,\\\n",
    "        fmt='*',markersize='5',elinewidth=0.5,solid_capstyle='projecting',label='C++', capsize=1.5)\n",
    "plt.errorbar(m0,mpi_F,yerr=dmpi_F,\\\n",
    "        fmt='*',markersize='5',elinewidth=0.5,solid_capstyle='projecting',label='Fortran', capsize=1.5)\n",
    "plt.legend()\n",
    "plt.show()\n",
    "#fig.savefig(\"Mpi.pdf\")\n",
    "\n",
    "\n",
    "\n",
    "SG_C = np.array([0.56054193699302834,0.55232957284976547,0.54831505751146892,0.538985 ])      \n",
    "dSG_C = np.array([0.0013579647475999619, 0.0016871376291731546,0.0017741588444640263,0.00154538])\n",
    "SG_F = np.array([0.55819E+00,0.55786E+00,0.54574E+00, 0.53850E+00   ]) \n",
    "dSG_F =  np.array([0.157E-02,0.125E-02,0.168E-02,0.141E-02  ])  \n",
    "\n",
    "fig = plt.figure(dpi=150)\n",
    "plt.title(r'Average gauge action/V, $N_x$={0}, $N_t={1}$, $\\beta$={2}'.format(Nx,Nt,beta))\n",
    "plt.ylabel(r'$S_G/(N_x N_t)$')\n",
    "plt.xlabel(r\"$m_0$\")\n",
    "plt.errorbar(m0,SG_C,yerr=dSG_C,\\\n",
    "        fmt='*',markersize='5',elinewidth=0.5,solid_capstyle='projecting',label='C++', capsize=1.5)\n",
    "plt.errorbar(m0,SG_F,yerr=dSG_F,\\\n",
    "        fmt='*',markersize='5',elinewidth=0.5,solid_capstyle='projecting',label='Fortran', capsize=1.5)\n",
    "plt.legend()\n",
    "plt.show()\n",
    "#fig.savefig(\"SG.pdf\")"
   ]
  },
  {
   "cell_type": "code",
   "execution_count": null,
   "id": "42ecee98-857d-4886-98c3-fbabe1c1b0dc",
   "metadata": {},
   "outputs": [],
   "source": []
  }
 ],
 "metadata": {
  "kernelspec": {
   "display_name": "Python 3 (ipykernel)",
   "language": "python",
   "name": "python3"
  },
  "language_info": {
   "codemirror_mode": {
    "name": "ipython",
    "version": 3
   },
   "file_extension": ".py",
   "mimetype": "text/x-python",
   "name": "python",
   "nbconvert_exporter": "python",
   "pygments_lexer": "ipython3",
   "version": "3.11.11"
  }
 },
 "nbformat": 4,
 "nbformat_minor": 5
}
