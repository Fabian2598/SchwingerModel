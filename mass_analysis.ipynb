{
 "cells": [
  {
   "cell_type": "markdown",
   "id": "5fc95919-94f9-4d23-af34-f54e6c24f781",
   "metadata": {},
   "source": [
    "# $m_\\pi$ analysis\n",
    "\n",
    "Program for measuring the pion mass. It computes the effective mass and fits the plateau. The correlation function is assumed to be precomputed."
   ]
  },
  {
   "cell_type": "code",
   "execution_count": null,
   "id": "1e3ab136-044a-45e2-afdd-cf2668375c51",
   "metadata": {},
   "outputs": [],
   "source": [
    "import numpy as np\n",
    "import matplotlib.pyplot as plt\n",
    "from scipy import optimize\n",
    "from scipy.optimize import curve_fit"
   ]
  },
  {
   "cell_type": "code",
   "execution_count": null,
   "id": "a7d40230-b50a-477e-b42e-5b678f2d8ac4",
   "metadata": {},
   "outputs": [],
   "source": [
    "def Datos(path):\n",
    "    data = [[],[],[]]\n",
    "    with open(path) as fobj:\n",
    "        for i, line in enumerate(fobj):\n",
    "           # data.append([])\n",
    "            if line.rsplit() != []:\n",
    "                row = line.rsplit()   \n",
    "                for j in range(len(row)):\n",
    "                    data[j].append(float(row[j]))     \n",
    "    return np.array(data)\n",
    "\n",
    "def EffectiveMass(Corr,Nt):\n",
    "    #We need the root of this function\n",
    "    def f(x,Corr,t):\n",
    "        #return Corr[t]/Corr[(t+1)%Nt] - np.cosh(x * (t-Nt/2))/ np.cosh(x * ( (t+1)%Nt - Nt/2 ))\n",
    "        return Corr[t]/Corr[(t+1)%Nt] - np.cosh(x * (t-Nt/2))/ np.cosh(x * ( (t+1) - Nt/2 ))\n",
    "    meff = []\n",
    "    for t in range(Nt):\n",
    "        sol = optimize.root_scalar(f, args=(Corr,t), method='secant', x0=0.5, x1=1, xtol=1e-15, rtol=1e-15, maxiter=1000)\n",
    "        if sol.converged == True:\n",
    "            meff.append(sol.root)\n",
    "        else:\n",
    "            print(\"Solution not found for t={0}\".format(t))\n",
    "            meff.append(np.nan)\n",
    "    return np.array(meff)\n",
    "\n",
    "def func(x, a, b):\n",
    "    return a*np.exp((Nt/2-x)*b)\n",
    "\n",
    "def format_number(number):\n",
    "    # Format the number with 2 decimal places\n",
    "    s = f\"{number:.2f}\"\n",
    "    # Remove the decimal point\n",
    "    s = s.replace('.', '')\n",
    "    return s\n",
    "\n",
    "def kappa2mass(kappa):\n",
    "    return 1/(2*kappa)-2\n",
    "\n",
    "def mass2kappa(m0):\n",
    "    return 1/(2*(m0+2))"
   ]
  },
  {
   "cell_type": "code",
   "execution_count": null,
   "id": "390baf3f-c153-4e4f-88f3-df253c664b42",
   "metadata": {},
   "outputs": [],
   "source": [
    "kappa2mass(0.252)"
   ]
  },
  {
   "cell_type": "code",
   "execution_count": null,
   "id": "5615d44e-3156-4b57-ace5-ba53568b9078",
   "metadata": {},
   "outputs": [],
   "source": [
    "mass2kappa(-0.2)"
   ]
  },
  {
   "cell_type": "code",
   "execution_count": null,
   "id": "3b82900f-b124-44df-b201-aa7433533ac0",
   "metadata": {},
   "outputs": [],
   "source": [
    "beta, Nx, Nt = 4, 64, 64\n",
    "masses = [kappa2mass(0.248)]\n",
    "\n",
    "plt.title(r'Correlation function, $N_x$={0}, $N_t={1}$, $\\beta$={2}'.format(Nx,Nt,beta))\n",
    "plt.ylabel(r'$|c(t)|$')\n",
    "plt.xlabel(r\"$t$\")\n",
    "\n",
    "for m0 in masses:\n",
    "    path = 'confs/b{0}_{1}x{2}/2D_U1_Ns{1}_Nt{2}_b{0}_m{3}_corr.txt'.format(beta,Nx,Nt,format_number(m0))\n",
    "    t, Corr, dCorr = Datos(path)\n",
    "    Corr = abs(Corr)\n",
    "    plt.errorbar(t,Corr,yerr=dCorr,\\\n",
    "        fmt='*',markersize='5',elinewidth=0.5,solid_capstyle='projecting',label='$m_0=${0}'.format(np.round(m0,3)), capsize=1.5)\n",
    "plt.yscale('log')\n",
    "plt.legend()\n",
    "plt.show()"
   ]
  },
  {
   "cell_type": "code",
   "execution_count": null,
   "id": "39fa06bd-b92e-4eee-b568-53231f9ddffd",
   "metadata": {
    "scrolled": true
   },
   "outputs": [],
   "source": [
    "for t in range(Nt):\n",
    "    print('C({0})= {1} +- {2}'.format(t,Corr[t],dCorr[t]))"
   ]
  },
  {
   "cell_type": "code",
   "execution_count": null,
   "id": "110b6041-faa0-4bb6-8b9f-382b2aea3e3e",
   "metadata": {},
   "outputs": [],
   "source": [
    "plt.title(r'Effective mass, $N_x$={0}, $N_t={1}$, $\\beta$={2}'.format(Nx,Nt,beta))\n",
    "plt.ylabel(r'$m_{eff}(t)$')\n",
    "plt.xlabel(r\"$t$\")\n",
    "\n",
    "for m0 in masses:\n",
    "    path = 'confs/b{0}_{1}x{2}/2D_U1_Ns{1}_Nt{2}_b{0}_m{3}_corr.txt'.format(beta,Nx,Nt,format_number(m0))\n",
    "    t, Corr, dCorr = Datos(path)\n",
    "    Corr = abs(Corr)\n",
    "    meff = EffectiveMass(Corr,Nt)\n",
    "    plt.errorbar(t,meff,yerr=meff*0,\\\n",
    "        fmt='*',markersize='5',elinewidth=0.5,solid_capstyle='projecting',label='$m_0=${0}'.format(np.round(m0,3)), capsize=1.5)\n",
    "    print(\"mpi = {0} +- {1}\".format(np.mean(meff[10:50]),np.std(meff[10:50])))\n",
    "#plt.yscale('log')\n",
    "plt.legend() \n",
    "plt.show()"
   ]
  },
  {
   "cell_type": "code",
   "execution_count": null,
   "id": "e73ef325-700c-4e64-b62e-01add9e6e7c8",
   "metadata": {},
   "outputs": [],
   "source": [
    "print(\"mpi={0} +- {1}\".format(np.round(0.3773428923847352,3),np.round(0.0068873628520349705,3))) "
   ]
  },
  {
   "cell_type": "code",
   "execution_count": null,
   "id": "78c8f7f8-83d0-4ce9-9470-882a03bf2309",
   "metadata": {},
   "outputs": [],
   "source": [
    "#popt, pcov = curve_fit(func, np.arange(Nt)[4:8], Corr[4:8],p0=[0.1,0.1])\n",
    "#print(popt)\n",
    "#plt.plot(np.arange(Nt), func(np.arange(Nt), *popt), 'r-',\n",
    "#         label='fit: a=%5.3f, b=%5.3f'% tuple(popt))\n",
    "#plt.scatter(np.arange(Nt),Corr)\n",
    "#plt.yscale('log')"
   ]
  },
  {
   "cell_type": "markdown",
   "id": "93135d88-30f5-468e-815e-46c904d284ef",
   "metadata": {},
   "source": [
    "## Fortran vs C++ results\n",
    "\n",
    "Comparing my simulation results with the Fortran code which I used long time ago an which is tested"
   ]
  },
  {
   "cell_type": "code",
   "execution_count": null,
   "id": "b8d93aef-b5c1-44e7-bb29-36d0090d3c93",
   "metadata": {},
   "outputs": [],
   "source": [
    "m0 = np.array([kappa2mass(0.25),kappa2mass(0.255),kappa2mass(0.26),kappa2mass(0.265)])\n",
    "mpi_C = np.array([0.5902800006825173,0.532153301674059, 0.439023713759679, 0.3518992029346969  ])\n",
    "dmpi_C = np.array([0.03879288389493793,0.04257417738305564, 0.01704753613144535, 0.00926040989633477 ]) #I don't use Jackknife here, only a naive error implementation \n",
    "\n",
    "mpi_F = np.array([0.59132032615137209,  0.52376242060378120,  0.45498548094226249, 0.37063943725059129])         \n",
    "dmpi_F = np.array([3.0800773884529045E-003, 2.7502998222633974E-003, 1.9926772819619885E-002, 1.6938266250340936E-002 ]) \n",
    "\n",
    "fig = plt.figure(dpi=150)\n",
    "plt.title(r'$m_\\pi$, $N_x$={0}, $N_t={1}$, $\\beta$={2}'.format(Nx,Nt,beta))\n",
    "plt.ylabel(r'$m_{\\pi}$')\n",
    "plt.xlabel(r\"$m_0$\")\n",
    "plt.errorbar(m0,mpi_C,yerr=dmpi_C,\\\n",
    "        fmt='*',markersize='5',elinewidth=0.5,solid_capstyle='projecting',label='C++', capsize=1.5)\n",
    "plt.errorbar(m0,mpi_F,yerr=dmpi_F,\\\n",
    "        fmt='*',markersize='5',elinewidth=0.5,solid_capstyle='projecting',label='Fortran', capsize=1.5)\n",
    "plt.legend()\n",
    "plt.show()\n",
    "#fig.savefig(\"Mpi.pdf\")\n",
    "\n",
    "\n",
    "\n",
    "SG_C = np.array([0.56054193699302834,0.55232957284976547,0.54831505751146892,0.538985 ])      \n",
    "dSG_C = np.array([0.0013579647475999619, 0.0016871376291731546,0.0017741588444640263,0.00154538])\n",
    "SG_F = np.array([0.55819E+00,0.55786E+00,0.54574E+00, 0.53850E+00   ]) \n",
    "dSG_F =  np.array([0.157E-02,0.125E-02,0.168E-02,0.141E-02  ])  \n",
    "\n",
    "fig = plt.figure(dpi=150)\n",
    "plt.title(r'Average gauge action/V, $N_x$={0}, $N_t={1}$, $\\beta$={2}'.format(Nx,Nt,beta))\n",
    "plt.ylabel(r'$S_G/(N_x N_t)$')\n",
    "plt.xlabel(r\"$m_0$\")\n",
    "plt.errorbar(m0,SG_C,yerr=dSG_C,\\\n",
    "        fmt='*',markersize='5',elinewidth=0.5,solid_capstyle='projecting',label='C++', capsize=1.5)\n",
    "plt.errorbar(m0,SG_F,yerr=dSG_F,\\\n",
    "        fmt='*',markersize='5',elinewidth=0.5,solid_capstyle='projecting',label='Fortran', capsize=1.5)\n",
    "plt.legend()\n",
    "plt.show()\n",
    "#fig.savefig(\"SG.pdf\")"
   ]
  },
  {
   "cell_type": "code",
   "execution_count": null,
   "id": "42ecee98-857d-4886-98c3-fbabe1c1b0dc",
   "metadata": {},
   "outputs": [],
   "source": []
  }
 ],
 "metadata": {
  "kernelspec": {
   "display_name": "Python 3 (ipykernel)",
   "language": "python",
   "name": "python3"
  },
  "language_info": {
   "codemirror_mode": {
    "name": "ipython",
    "version": 3
   },
   "file_extension": ".py",
   "mimetype": "text/x-python",
   "name": "python",
   "nbconvert_exporter": "python",
   "pygments_lexer": "ipython3",
   "version": "3.11.11"
  }
 },
 "nbformat": 4,
 "nbformat_minor": 5
}
