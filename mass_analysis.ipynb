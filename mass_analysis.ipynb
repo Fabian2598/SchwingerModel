{
 "cells": [
  {
   "cell_type": "code",
   "execution_count": null,
   "id": "1e3ab136-044a-45e2-afdd-cf2668375c51",
   "metadata": {},
   "outputs": [],
   "source": [
    "import numpy as np\n",
    "import matplotlib.pyplot as plt\n",
    "from scipy import optimize"
   ]
  },
  {
   "cell_type": "code",
   "execution_count": null,
   "id": "a7d40230-b50a-477e-b42e-5b678f2d8ac4",
   "metadata": {},
   "outputs": [],
   "source": [
    "def Datos(path):\n",
    "    data = [[],[],[]]\n",
    "    with open(path) as fobj:\n",
    "        for i, line in enumerate(fobj):\n",
    "           # data.append([])\n",
    "            if line.rsplit() != []:\n",
    "                row = line.rsplit()   \n",
    "                for j in range(len(row)):\n",
    "                    data[j].append(float(row[j]))     \n",
    "    return np.array(data)\n",
    "\n",
    "def EffectiveMass(Corr,Nt):\n",
    "    #We need the root of this function\n",
    "    def f(x,Corr,t):\n",
    "        return Corr[t]/Corr[(t+1)%Nt] - np.cosh(x * (t-Nt/2))/ np.cosh(x * ( (t+1)%Nt - Nt/2 ))\n",
    "    meff = []\n",
    "    for t in range(Nt):\n",
    "        sol = optimize.root_scalar(f, args=(Corr,t), method='secant', x0=0.5, x1=1, xtol=1e-15, rtol=1e-15, maxiter=1000)\n",
    "        if sol.converged == True:\n",
    "            meff.append(sol.root)\n",
    "        else:\n",
    "            print(\"Solution not found for t={0}\".format(t))\n",
    "            meff.append(np.nan)\n",
    "    return np.array(meff)\n",
    "          "
   ]
  },
  {
   "cell_type": "code",
   "execution_count": null,
   "id": "3b82900f-b124-44df-b201-aa7433533ac0",
   "metadata": {},
   "outputs": [],
   "source": [
    "beta, Nx, Nt = 2, 16, 16\n",
    "if beta == 3:\n",
    "    masses = [-0.5,-0.4,-0.3,-0.2,-0.15,-0.1,0.05,0.1,0.15]\n",
    "elif beta == 2:\n",
    "    masses = [-0.16]\n",
    "\n",
    "plt.title(r'Correlation function, $N_x$={0}, $N_t={1}$, $\\beta$={2}'.format(Nx,Nt,beta))\n",
    "plt.ylabel(r'$|c(t)|$')\n",
    "plt.xlabel(r\"$t$\")\n",
    "\n",
    "for m0 in masses:\n",
    "    path = 'confs/b{0}_{1}x{2}/2D_U1_Ns{1}_Nt{2}_b{0}_m{3}_corr.txt'.format(beta,Nx,Nt,str(m0).replace(\".\",\"\"))\n",
    "    t, Corr, dCorr = Datos(path)\n",
    "    Corr = abs(Corr)\n",
    "    plt.errorbar(t,Corr,yerr=dCorr,\\\n",
    "        fmt='*',markersize='5',elinewidth=0.5,solid_capstyle='projecting',label='$m_0=${0}'.format(m0), capsize=1.5)\n",
    "plt.yscale('log')\n",
    "plt.legend()\n",
    "plt.show()"
   ]
  },
  {
   "cell_type": "code",
   "execution_count": null,
   "id": "39fa06bd-b92e-4eee-b568-53231f9ddffd",
   "metadata": {},
   "outputs": [],
   "source": [
    "for t in range(Nt):\n",
    "    print('C({0})= {1} +- {2}'.format(t,Corr[t],dCorr[t]))"
   ]
  },
  {
   "cell_type": "code",
   "execution_count": null,
   "id": "110b6041-faa0-4bb6-8b9f-382b2aea3e3e",
   "metadata": {},
   "outputs": [],
   "source": [
    "plt.title(r'Effective mass, $N_x$={0}, $N_t={1}$, $\\beta$={2}'.format(Nx,Nt,beta))\n",
    "plt.ylabel(r'$m_{eff}(t)$')\n",
    "plt.xlabel(r\"$t$\")\n",
    "\n",
    "for m0 in masses:\n",
    "    path = 'confs/b{0}_{1}x{2}/2D_U1_Ns{1}_Nt{2}_b{0}_m{3}_corr.txt'.format(beta,Nx,Nt,str(m0).replace(\".\",\"\"))\n",
    "    t, Corr, dCorr = Datos(path)\n",
    "    Corr = abs(Corr)\n",
    "    meff = EffectiveMass(Corr,Nt)\n",
    "    plt.errorbar(t,meff,yerr=meff*0,\\\n",
    "        fmt='*',markersize='5',elinewidth=0.5,solid_capstyle='projecting',label='$m_0=${0}'.format(m0), capsize=1.5)\n",
    "#plt.yscale('log')\n",
    "plt.legend()\n",
    "plt.show()\n",
    "print(np.mean(meff[2:12]))"
   ]
  },
  {
   "cell_type": "code",
   "execution_count": null,
   "id": "78c8f7f8-83d0-4ce9-9470-882a03bf2309",
   "metadata": {},
   "outputs": [],
   "source": [
    "from scipy.optimize import curve_fit\n",
    "def func(x, a, b):\n",
    "    return a*np.exp((Nt/2-x)*b)\n",
    "\n",
    "popt, pcov = curve_fit(func, np.arange(Nt)[4:8], Corr[4:8],p0=[0.1,0.1])\n",
    "print(popt)\n",
    "plt.plot(np.arange(Nt), func(np.arange(Nt), *popt), 'r-',\n",
    "         label='fit: a=%5.3f, b=%5.3f'% tuple(popt))\n",
    "plt.scatter(np.arange(Nt),Corr)\n",
    "plt.yscale('log')"
   ]
  },
  {
   "cell_type": "code",
   "execution_count": null,
   "id": "4f12c6d0-cf0d-4f29-8a59-d8830c03551b",
   "metadata": {},
   "outputs": [],
   "source": [
    "kappa = 0.2680\n",
    "mass = 1/(2*kappa)-2\n",
    "print(mass)"
   ]
  },
  {
   "cell_type": "markdown",
   "id": "923b0485-b330-44d4-9ad4-98e37c75d57c",
   "metadata": {},
   "source": [
    "### Using explicitly the Dirac Matrix"
   ]
  },
  {
   "cell_type": "code",
   "execution_count": null,
   "id": "8a47398a-927d-411b-9b02-c69173728c18",
   "metadata": {},
   "outputs": [],
   "source": [
    "from scipy.sparse import csc_array\n",
    "from scipy.sparse.linalg import bicgstab"
   ]
  },
  {
   "cell_type": "code",
   "execution_count": null,
   "id": "c39eb0a3-a1d6-4439-a25f-970a46ca48c9",
   "metadata": {},
   "outputs": [],
   "source": [
    "def DatosMat(path):\n",
    "    data = [[],[],[],[]]\n",
    "    with open(path) as fobj:\n",
    "        for i, line in enumerate(fobj):\n",
    "           # data.append([])\n",
    "            if line.rsplit() != []:\n",
    "                row = line.rsplit()   \n",
    "                for j in range(len(row)):\n",
    "                    data[j].append(float(row[j]))     \n",
    "    return data"
   ]
  },
  {
   "cell_type": "code",
   "execution_count": null,
   "id": "32a2b321-c53b-4d8d-8d3f-12aa9af2d5f1",
   "metadata": {
    "scrolled": true
   },
   "outputs": [],
   "source": [
    "Nx, Nt = 16, 16\n",
    "num_configs = 1000\n",
    "dim = Nx*Nt*2\n",
    "print(dim)\n",
    "D = np.zeros((dim,dim),dtype=complex)\n",
    "Dinv = np.zeros((dim,2),dtype=complex)\n",
    "CorrMat = np.zeros((Nt,num_configs))\n",
    "Corr = np.zeros(Nt)\n",
    "for nconf in range(num_configs):\n",
    "    row, col, re, im = DatosMat(\"confs/D{0}.dat\".format(nconf))\n",
    "    for i in range(dim*dim):\n",
    "        D[ int(row[i]), int(col[i]) ] = re[i] + 1j*im[i] \n",
    "    print(\"Conf {0}\".format(nconf))\n",
    "    for i in range(2):\n",
    "        can_vec = np.eye(1,dim,i).reshape(dim)\n",
    "        Dinvcol, exit_code = bicgstab(csc_array(D), can_vec, x0=can_vec,maxiter=1000, rtol=1e-10)\n",
    "        if exit_code != 0:\n",
    "            print(\"convergence failed\")\n",
    "        Dinv[:,i] = Dinvcol\n",
    "    for t in range(Nt):\n",
    "        for alf in range(2):\n",
    "            for x in range(Nx):\n",
    "                for bet in range(2):\n",
    "                    indx = 2*(x*Nt + t)+alf \n",
    "                    #the indx for bet is just bet\n",
    "                    CorrMat[t,nconf] += np.real(Dinv[indx,bet] * np.conjugate(Dinv[indx,bet]))\n",
    "        CorrMat[t,nconf] /= np.sqrt(Nx)"
   ]
  },
  {
   "cell_type": "code",
   "execution_count": null,
   "id": "4c825569-f198-4a79-813f-695b4dbdf05c",
   "metadata": {},
   "outputs": [],
   "source": [
    "for t in range(Nt):\n",
    "    Corr[t] = np.mean(CorrMat[t])\n",
    "    dCorr[t] = np.std(CorrMat[t])/np.sqrt(num_configs)"
   ]
  },
  {
   "cell_type": "code",
   "execution_count": null,
   "id": "23fd5bc8-9e88-48de-99c0-36d4eabe6b50",
   "metadata": {
    "scrolled": true
   },
   "outputs": [],
   "source": [
    "beta, Nx, Nt = 2, 16, 16\n",
    "m0 = -0.16\n",
    "\n",
    "plt.title(r'Correlation function, $N_x$={0}, $N_t={1}$, $\\beta$={2}'.format(Nx,Nt,beta))\n",
    "plt.ylabel(r'$|c(t)|$')\n",
    "plt.xlabel(r\"$t$\")\n",
    "\n",
    "plt.errorbar(np.arange(Nt),Corr,yerr=dCorr,\\\n",
    "    fmt='*',markersize='5',elinewidth=0.5,solid_capstyle='projecting',label='$m_0=${0} python'.format(m0), capsize=1.5)\n",
    "\n",
    "path = 'confs/b{0}_{1}x{2}/2D_U1_Ns{1}_Nt{2}_b{0}_m{3}_corr.txt'.format(beta,Nx,Nt,str(m0).replace(\".\",\"\"))\n",
    "t, data, ddata = Datos(path)\n",
    "data = abs(data)\n",
    "plt.errorbar(t,data,yerr=ddata,\\\n",
    "    fmt='*',markersize='5',elinewidth=0.5,solid_capstyle='projecting',label='$m_0=${0}'.format(m0), capsize=1.5)\n",
    "plt.yscale('log')\n",
    "plt.legend()\n",
    "plt.show()\n",
    "for i in np.arange(Nt):\n",
    "    print(Corr[i],data[i])"
   ]
  },
  {
   "cell_type": "code",
   "execution_count": null,
   "id": "2719983f-a781-46ac-89f0-106c4f3d69d2",
   "metadata": {},
   "outputs": [],
   "source": [
    "plt.title(r'Effective mass, $N_x$={0}, $N_t={1}$, $\\beta$={2}'.format(Nx,Nt,beta))\n",
    "plt.ylabel(r'$m_{eff}(t)$')\n",
    "plt.xlabel(r\"$t$\")\n",
    "meff = EffectiveMass(Corr,Nt)\n",
    "plt.errorbar(t,meff,yerr=meff*0,\\\n",
    "    fmt='*',markersize='5',elinewidth=0.5,solid_capstyle='projecting',label='$m_0=${0}'.format(m0), capsize=1.5)\n",
    "#plt.yscale('log')\n",
    "plt.legend()\n",
    "plt.show()\n",
    "print(np.mean(meff[2:12]))"
   ]
  },
  {
   "cell_type": "code",
   "execution_count": null,
   "id": "039e365a-3e10-49e0-911f-868f2b0681d4",
   "metadata": {},
   "outputs": [],
   "source": [
    "def func(x, a, b):\n",
    "    return a*np.exp((Nt/2-x)*b)\n",
    "\n",
    "popt, pcov = curve_fit(func, np.arange(Nt)[4:8], Corr[4:8],p0=[0.1,0.1])\n",
    "print(popt)\n",
    "plt.plot(np.arange(Nt), func(np.arange(Nt), *popt), 'r-',\n",
    "         label='fit: a=%5.3f, b=%5.3f'% tuple(popt))\n",
    "plt.scatter(np.arange(Nt),Corr)\n",
    "plt.yscale('log')"
   ]
  },
  {
   "cell_type": "code",
   "execution_count": null,
   "id": "59c3f7c4-5263-45a6-b2b5-be5c6580aea8",
   "metadata": {},
   "outputs": [],
   "source": []
  }
 ],
 "metadata": {
  "kernelspec": {
   "display_name": "Python [conda env:base] *",
   "language": "python",
   "name": "conda-base-py"
  },
  "language_info": {
   "codemirror_mode": {
    "name": "ipython",
    "version": 3
   },
   "file_extension": ".py",
   "mimetype": "text/x-python",
   "name": "python",
   "nbconvert_exporter": "python",
   "pygments_lexer": "ipython3",
   "version": "3.12.7"
  }
 },
 "nbformat": 4,
 "nbformat_minor": 5
}
