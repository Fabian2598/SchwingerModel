{
 "cells": [
  {
   "cell_type": "markdown",
   "id": "5fc95919-94f9-4d23-af34-f54e6c24f781",
   "metadata": {},
   "source": [
    "# $m_\\pi$ analysis\n",
    "\n",
    "Program for measuring the pion mass. It computes the effective mass and fits the plateau. The correlation function is assumed to be precomputed."
   ]
  },
  {
   "cell_type": "code",
   "execution_count": 6,
   "id": "1e3ab136-044a-45e2-afdd-cf2668375c51",
   "metadata": {},
   "outputs": [],
   "source": [
    "import numpy as np\n",
    "import matplotlib.pyplot as plt\n",
    "from scipy import optimize\n",
    "from scipy.optimize import curve_fit"
   ]
  },
  {
   "cell_type": "code",
   "execution_count": 7,
   "id": "a7d40230-b50a-477e-b42e-5b678f2d8ac4",
   "metadata": {},
   "outputs": [],
   "source": [
    "def Datos(path):\n",
    "    data = [[],[],[]]\n",
    "    with open(path) as fobj:\n",
    "        for i, line in enumerate(fobj):\n",
    "           # data.append([])\n",
    "            if line.rsplit() != []:\n",
    "                row = line.rsplit()   \n",
    "                for j in range(len(row)):\n",
    "                    data[j].append(float(row[j]))     \n",
    "    return np.array(data)\n",
    "\n",
    "def EffectiveMass(Corr,Nt):\n",
    "    #We need the root of this function\n",
    "    def f(x,Corr,t):\n",
    "        #return Corr[t]/Corr[(t+1)%Nt] - np.cosh(x * (t-Nt/2))/ np.cosh(x * ( (t+1)%Nt - Nt/2 ))\n",
    "        return Corr[t]/Corr[(t+1)%Nt] - np.cosh(x * (t-Nt/2))/ np.cosh(x * ( (t+1) - Nt/2 ))\n",
    "    meff = []\n",
    "    for t in range(Nt):\n",
    "        sol = optimize.root_scalar(f, args=(Corr,t), method='secant', x0=0.5, x1=1, xtol=1e-15, rtol=1e-15, maxiter=1000)\n",
    "        if sol.converged == True:\n",
    "            meff.append(sol.root)\n",
    "        else:\n",
    "            print(\"Solution not found for t={0}\".format(t))\n",
    "            meff.append(np.nan)\n",
    "    return np.array(meff)\n",
    "\n",
    "def func(x, a, b):\n",
    "    return a*np.exp((Nt/2-x)*b)\n",
    "\n",
    "def kappa2mass(kappa):\n",
    "    return 1/(2*kappa)-2\n",
    "\n",
    "def mass2kappa(m0):\n",
    "    return 1/(2*(m0+2))\n",
    "\n",
    "def format_number(number):\n",
    "    # Format the number with 2 decimal places\n",
    "    s = f\"{number:.2f}\"\n",
    "    # Remove the decimal point\n",
    "    s = s.replace('.', '')\n",
    "    if number == kappa2mass(0.247):\n",
    "        s = '0024'\n",
    "    return s"
   ]
  },
  {
   "cell_type": "code",
   "execution_count": 8,
   "id": "390baf3f-c153-4e4f-88f3-df253c664b42",
   "metadata": {
    "scrolled": true
   },
   "outputs": [
    {
     "data": {
      "text/plain": [
       "0.016129032258064502"
      ]
     },
     "execution_count": 8,
     "metadata": {},
     "output_type": "execute_result"
    }
   ],
   "source": [
    "kappa2mass(0.248)"
   ]
  },
  {
   "cell_type": "code",
   "execution_count": 9,
   "id": "b65cd25d-262a-45bc-9a8e-54687728f1b7",
   "metadata": {},
   "outputs": [
    {
     "data": {
      "text/plain": [
       "'-001'"
      ]
     },
     "execution_count": 9,
     "metadata": {},
     "output_type": "execute_result"
    }
   ],
   "source": [
    "format_number(-0.0079681300000000004)"
   ]
  },
  {
   "cell_type": "code",
   "execution_count": 12,
   "id": "3b82900f-b124-44df-b201-aa7433533ac0",
   "metadata": {},
   "outputs": [
    {
     "data": {
      "image/png": "[encoded data removed]",
      "text/plain": [
       "<Figure size 640x480 with 1 Axes>"
      ]
     },
     "metadata": {},
     "output_type": "display_data"
    }
   ],
   "source": [
    "beta, Nx, Nt = 4, 64, 64\n",
    "#masses = [kappa2mass(0.259),kappa2mass(0.255),kappa2mass(0.252),kappa2mass(0.251),kappa2mass(0.248),kappa2mass(0.247)]\n",
    "masses = [-0.0079681300000000004]\n",
    "\n",
    "plt.title(r'Correlation function, $N_x$={0}, $N_t={1}$, $\\beta$={2}'.format(Nx,Nt,beta))\n",
    "plt.ylabel(r'$|c(t)|$')\n",
    "plt.xlabel(r\"$t$\")\n",
    "\n",
    "for m0 in masses:\n",
    "    path = 'confs/b{0}_{1}x{2}/m-007/NewConfs/2D_U1_Ns{1}_Nt{2}_b{0}_m{3}_corr.txt'.format(beta,Nx,Nt,format_number(m0))\n",
    "    #path = 'build/b{0}_{1}x{2}/2D_U1_Ns{1}_Nt{2}_b{0}_m{3}_corr.txt'.format(beta,Nx,Nt,format_number(m0))\n",
    "    t, Corr, dCorr = Datos(path)\n",
    "    Corr = abs(Corr)\n",
    "    plt.errorbar(t,Corr,yerr=dCorr,\\\n",
    "        fmt='*',markersize='5',elinewidth=0.5,solid_capstyle='projecting',label='$m_0=${0}'.format(np.round(m0,3)), capsize=1.5)\n",
    "plt.yscale('log')\n",
    "plt.legend()\n",
    "plt.show()"
   ]
  },
  {
   "cell_type": "code",
   "execution_count": 13,
   "id": "39fa06bd-b92e-4eee-b568-53231f9ddffd",
   "metadata": {
    "collapsed": true,
    "jupyter": {
     "outputs_hidden": true
    },
    "scrolled": true
   },
   "outputs": [
    {
     "name": "stdout",
     "output_type": "stream",
     "text": [
      "C(0)= 0.07573846 +- 0.0003395642\n",
      "C(1)= 0.02264728 +- 0.0001728063\n",
      "C(2)= 0.01316694 +- 0.0001485176\n",
      "C(3)= 0.008720608 +- 0.0001024979\n",
      "C(4)= 0.006031196 +- 7.769404e-05\n",
      "C(5)= 0.004244712 +- 7.405131e-05\n",
      "C(6)= 0.003009174 +- 6.928293e-05\n",
      "C(7)= 0.002133951 +- 5.308757e-05\n",
      "C(8)= 0.001519258 +- 3.931389e-05\n",
      "C(9)= 0.001079266 +- 2.896563e-05\n",
      "C(10)= 0.0007641057 +- 2.05273e-05\n",
      "C(11)= 0.0005409711 +- 1.427455e-05\n",
      "C(12)= 0.0003813794 +- 1.036715e-05\n",
      "C(13)= 0.0002704693 +- 8.258446e-06\n",
      "C(14)= 0.000193039 +- 6.638546e-06\n",
      "C(15)= 0.0001387917 +- 5.14059e-06\n",
      "C(16)= 0.0001010428 +- 4.164018e-06\n",
      "C(17)= 7.297318e-05 +- 3.269429e-06\n",
      "C(18)= 5.236706e-05 +- 2.445498e-06\n",
      "C(19)= 3.763431e-05 +- 1.824196e-06\n",
      "C(20)= 2.72011e-05 +- 1.410378e-06\n",
      "C(21)= 1.951652e-05 +- 1.062719e-06\n",
      "C(22)= 1.404787e-05 +- 8.133208e-07\n",
      "C(23)= 1.013152e-05 +- 6.228851e-07\n",
      "C(24)= 7.305418e-06 +- 4.618843e-07\n",
      "C(25)= 5.261955e-06 +- 3.350612e-07\n",
      "C(26)= 3.798061e-06 +- 2.436495e-07\n",
      "C(27)= 2.774089e-06 +- 1.777754e-07\n",
      "C(28)= 2.074475e-06 +- 1.26358e-07\n",
      "C(29)= 1.576917e-06 +- 8.699711e-08\n",
      "C(30)= 1.242357e-06 +- 6.057388e-08\n",
      "C(31)= 1.054389e-06 +- 4.559036e-08\n",
      "C(32)= 9.82682e-07 +- 4.191029e-08\n",
      "C(33)= 1.028773e-06 +- 4.791686e-08\n",
      "C(34)= 1.202816e-06 +- 6.438511e-08\n",
      "C(35)= 1.512029e-06 +- 8.947545e-08\n",
      "C(36)= 1.980943e-06 +- 1.203408e-07\n",
      "C(37)= 2.649283e-06 +- 1.594388e-07\n",
      "C(38)= 3.589257e-06 +- 2.103134e-07\n",
      "C(39)= 4.948739e-06 +- 2.789227e-07\n",
      "C(40)= 6.898473e-06 +- 3.812538e-07\n",
      "C(41)= 9.636806e-06 +- 5.337231e-07\n",
      "C(42)= 1.341076e-05 +- 7.324199e-07\n",
      "C(43)= 1.860816e-05 +- 1.001679e-06\n",
      "C(44)= 2.568572e-05 +- 1.369436e-06\n",
      "C(45)= 3.573907e-05 +- 1.809938e-06\n",
      "C(46)= 5.004134e-05 +- 2.381058e-06\n",
      "C(47)= 7.024204e-05 +- 3.068142e-06\n",
      "C(48)= 9.831829e-05 +- 3.916823e-06\n",
      "C(49)= 0.0001379108 +- 5.021734e-06\n",
      "C(50)= 0.0001941956 +- 6.428534e-06\n",
      "C(51)= 0.0002729402 +- 8.58749e-06\n",
      "C(52)= 0.0003843503 +- 1.153424e-05\n",
      "C(53)= 0.0005420511 +- 1.5205e-05\n",
      "C(54)= 0.0007678825 +- 1.968266e-05\n",
      "C(55)= 0.001078588 +- 2.683117e-05\n",
      "C(56)= 0.001500072 +- 3.463304e-05\n",
      "C(57)= 0.002092962 +- 4.437653e-05\n",
      "C(58)= 0.00295006 +- 5.194952e-05\n",
      "C(59)= 0.004165602 +- 5.68304e-05\n",
      "C(60)= 0.005902648 +- 6.877369e-05\n",
      "C(61)= 0.008562398 +- 9.747234e-05\n",
      "C(62)= 0.01308696 +- 0.0001520631\n",
      "C(63)= 0.0226265 +- 0.0001792207\n"
     ]
    }
   ],
   "source": [
    "for t in range(Nt):\n",
    "    print('C({0})= {1} +- {2}'.format(t,Corr[t],dCorr[t]))"
   ]
  },
  {
   "cell_type": "code",
   "execution_count": 25,
   "id": "50fbef38-4dbb-42b5-8ee4-19d37649f21d",
   "metadata": {},
   "outputs": [
    {
     "name": "stdout",
     "output_type": "stream",
     "text": [
      "Sequential version mpi in [0.321 , 0.331]\n",
      "Parallel version mpi in [0.325 , 0.339]\n"
     ]
    }
   ],
   "source": [
    "print(\"Sequential version mpi in [{0} , {1}]\".format(0.326-0.005,0.326+0.005))\n",
    "print(\"Parallel version mpi in [{0} , {1}]\".format(0.332-0.007,0.332+0.007))"
   ]
  },
  {
   "cell_type": "code",
   "execution_count": 21,
   "id": "110b6041-faa0-4bb6-8b9f-382b2aea3e3e",
   "metadata": {},
   "outputs": [
    {
     "name": "stdout",
     "output_type": "stream",
     "text": [
      "m0 = -0.008, kappa = 0.25100000031626,  mpi = 0.332 +- 0.007\n"
     ]
    },
    {
     "data": {
      "image/png": "[encoded data removed]",
      "text/plain": [
       "<Figure size 960x720 with 1 Axes>"
      ]
     },
     "metadata": {},
     "output_type": "display_data"
    }
   ],
   "source": [
    "fig = plt.figure(dpi=150)\n",
    "plt.title(r'Effective mass, $N_x$={0}, $N_t={1}$, $\\beta$={2}'.format(Nx,Nt,beta))\n",
    "plt.ylabel(r'$m_{eff}(t)$')\n",
    "plt.xlabel(r\"$t$\")\n",
    "\n",
    "for m0 in masses:\n",
    "    path = 'confs/b{0}_{1}x{2}/m-007/NewConfs/2D_U1_Ns{1}_Nt{2}_b{0}_m{3}_corr.txt'.format(beta,Nx,Nt,format_number(m0))\n",
    "    #path = 'confs/b{0}_{1}x{2}/2D_U1_Ns{1}_Nt{2}_b{0}_m{3}_corr.txt'.format(beta,Nx,Nt,format_number(m0))\n",
    "    t, Corr, dCorr = Datos(path)\n",
    "    Corr = abs(Corr)\n",
    "    meff = EffectiveMass(Corr,Nt)\n",
    "    plt.errorbar(t,meff,yerr=meff*0,\\\n",
    "        fmt='*',markersize='5',elinewidth=0.5,solid_capstyle='projecting',label='$m_0=${0}'.format(np.round(m0,3)), capsize=1.5)\n",
    "    print(\"m0 = {0}, kappa = {1},  mpi = {2} +- {3}\".format(np.round(m0,3),mass2kappa(m0), \n",
    "                                                                     np.round(np.mean(meff[10:29]),3),\n",
    "                                                                    np.round(np.std(meff[10:29]),3)))\n",
    "#plt.yscale('log')\n",
    "plt.legend() \n",
    "plt.show()\n",
    "#fig.savefig(\"meff.pdf\")"
   ]
  },
  {
   "cell_type": "code",
   "execution_count": 11,
   "id": "e73ef325-700c-4e64-b62e-01add9e6e7c8",
   "metadata": {},
   "outputs": [
    {
     "name": "stdout",
     "output_type": "stream",
     "text": [
      "mpi=0.377 +- 0.007\n"
     ]
    }
   ],
   "source": [
    "print(\"mpi={0} +- {1}\".format(np.round(0.3773428923847352,3),np.round(0.0068873628520349705,3))) "
   ]
  },
  {
   "cell_type": "code",
   "execution_count": null,
   "id": "78c8f7f8-83d0-4ce9-9470-882a03bf2309",
   "metadata": {},
   "outputs": [],
   "source": [
    "#popt, pcov = curve_fit(func, np.arange(Nt)[4:8], Corr[4:8],p0=[0.1,0.1])\n",
    "#print(popt)\n",
    "#plt.plot(np.arange(Nt), func(np.arange(Nt), *popt), 'r-',\n",
    "#         label='fit: a=%5.3f, b=%5.3f'% tuple(popt))\n",
    "#plt.scatter(np.arange(Nt),Corr)\n",
    "#plt.yscale('log')"
   ]
  },
  {
   "cell_type": "markdown",
   "id": "93135d88-30f5-468e-815e-46c904d284ef",
   "metadata": {},
   "source": [
    "## Fortran vs C++ results\n",
    "\n",
    "Comparing my simulation results with the Fortran code which I used long time ago an which is tested"
   ]
  },
  {
   "cell_type": "code",
   "execution_count": null,
   "id": "b8d93aef-b5c1-44e7-bb29-36d0090d3c93",
   "metadata": {},
   "outputs": [],
   "source": [
    "m0 = np.array([kappa2mass(0.25),kappa2mass(0.255),kappa2mass(0.26),kappa2mass(0.265)])\n",
    "mpi_C = np.array([0.5902800006825173,0.532153301674059, 0.439023713759679, 0.3518992029346969  ])\n",
    "dmpi_C = np.array([0.03879288389493793,0.04257417738305564, 0.01704753613144535, 0.00926040989633477 ]) #I don't use Jackknife here, only a naive error implementation \n",
    "\n",
    "mpi_F = np.array([0.59132032615137209,  0.52376242060378120,  0.45498548094226249, 0.37063943725059129])         \n",
    "dmpi_F = np.array([3.0800773884529045E-003, 2.7502998222633974E-003, 1.9926772819619885E-002, 1.6938266250340936E-002 ]) \n",
    "\n",
    "fig = plt.figure(dpi=150)\n",
    "plt.title(r'$m_\\pi$, $N_x$={0}, $N_t={1}$, $\\beta$={2}'.format(Nx,Nt,beta))\n",
    "plt.ylabel(r'$m_{\\pi}$')\n",
    "plt.xlabel(r\"$m_0$\")\n",
    "plt.errorbar(m0,mpi_C,yerr=dmpi_C,\\\n",
    "        fmt='*',markersize='5',elinewidth=0.5,solid_capstyle='projecting',label='C++', capsize=1.5)\n",
    "plt.errorbar(m0,mpi_F,yerr=dmpi_F,\\\n",
    "        fmt='*',markersize='5',elinewidth=0.5,solid_capstyle='projecting',label='Fortran', capsize=1.5)\n",
    "plt.legend()\n",
    "plt.show()\n",
    "#fig.savefig(\"Mpi.pdf\")\n",
    "\n",
    "\n",
    "\n",
    "SG_C = np.array([0.56054193699302834,0.55232957284976547,0.54831505751146892,0.538985 ])      \n",
    "dSG_C = np.array([0.0013579647475999619, 0.0016871376291731546,0.0017741588444640263,0.00154538])\n",
    "SG_F = np.array([0.55819E+00,0.55786E+00,0.54574E+00, 0.53850E+00   ]) \n",
    "dSG_F =  np.array([0.157E-02,0.125E-02,0.168E-02,0.141E-02  ])  \n",
    "\n",
    "fig = plt.figure(dpi=150)\n",
    "plt.title(r'Average gauge action/V, $N_x$={0}, $N_t={1}$, $\\beta$={2}'.format(Nx,Nt,beta))\n",
    "plt.ylabel(r'$S_G/(N_x N_t)$')\n",
    "plt.xlabel(r\"$m_0$\")\n",
    "plt.errorbar(m0,SG_C,yerr=dSG_C,\\\n",
    "        fmt='*',markersize='5',elinewidth=0.5,solid_capstyle='projecting',label='C++', capsize=1.5)\n",
    "plt.errorbar(m0,SG_F,yerr=dSG_F,\\\n",
    "        fmt='*',markersize='5',elinewidth=0.5,solid_capstyle='projecting',label='Fortran', capsize=1.5)\n",
    "plt.legend()\n",
    "plt.show()\n",
    "#fig.savefig(\"SG.pdf\")"
   ]
  },
  {
   "cell_type": "code",
   "execution_count": null,
   "id": "42ecee98-857d-4886-98c3-fbabe1c1b0dc",
   "metadata": {},
   "outputs": [],
   "source": []
  }
 ],
 "metadata": {
  "kernelspec": {
   "display_name": "Python 3 (ipykernel)",
   "language": "python",
   "name": "python3"
  },
  "language_info": {
   "codemirror_mode": {
    "name": "ipython",
    "version": 3
   },
   "file_extension": ".py",
   "mimetype": "text/x-python",
   "name": "python",
   "nbconvert_exporter": "python",
   "pygments_lexer": "ipython3",
   "version": "3.11.11"
  }
 },
 "nbformat": 4,
 "nbformat_minor": 5
}
