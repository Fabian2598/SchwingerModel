{
 "cells": [
  {
   "cell_type": "markdown",
   "id": "5fc95919-94f9-4d23-af34-f54e6c24f781",
   "metadata": {},
   "source": [
    "# $m_\\pi$ analysis\n",
    "\n",
    "Program for measuring the pion mass. It computes the effective mass and fits the plateau. The correlation function is assumed to be precomputed."
   ]
  },
  {
   "cell_type": "code",
   "execution_count": 1,
   "id": "1e3ab136-044a-45e2-afdd-cf2668375c51",
   "metadata": {},
   "outputs": [],
   "source": [
    "import numpy as np\n",
    "import matplotlib.pyplot as plt\n",
    "from scipy import optimize\n",
    "from scipy.optimize import curve_fit"
   ]
  },
  {
   "cell_type": "code",
   "execution_count": 2,
   "id": "a7d40230-b50a-477e-b42e-5b678f2d8ac4",
   "metadata": {},
   "outputs": [],
   "source": [
    "def Datos(path):\n",
    "    data = [[],[],[]]\n",
    "    with open(path) as fobj:\n",
    "        for i, line in enumerate(fobj):\n",
    "           # data.append([])\n",
    "            if line.rsplit() != []:\n",
    "                row = line.rsplit()   \n",
    "                for j in range(len(row)):\n",
    "                    data[j].append(float(row[j]))     \n",
    "    return np.array(data)\n",
    "\n",
    "def EffectiveMass(Corr,Nt):\n",
    "    #We need the root of this function\n",
    "    def f(x,Corr,t):\n",
    "        #return Corr[t]/Corr[(t+1)%Nt] - np.cosh(x * (t-Nt/2))/ np.cosh(x * ( (t+1)%Nt - Nt/2 ))\n",
    "        return Corr[t]/Corr[(t+1)%Nt] - np.cosh(x * (t-Nt/2))/ np.cosh(x * ( (t+1) - Nt/2 ))\n",
    "    meff = []\n",
    "    for t in range(Nt):\n",
    "        sol = optimize.root_scalar(f, args=(Corr,t), method='secant', x0=0.5, x1=1, xtol=1e-15, rtol=1e-15, maxiter=1000)\n",
    "        if sol.converged == True:\n",
    "            meff.append(sol.root)\n",
    "        else:\n",
    "            print(\"Solution not found for t={0}\".format(t))\n",
    "            meff.append(np.nan)\n",
    "    return np.array(meff)\n",
    "\n",
    "def func(x, a, b):\n",
    "    return a*np.exp((Nt/2-x)*b)\n",
    "\n",
    "def kappa2mass(kappa):\n",
    "    return 1/(2*kappa)-2\n",
    "\n",
    "def mass2kappa(m0):\n",
    "    return 1/(2*(m0+2))\n",
    "\n",
    "def format_number(number):\n",
    "    # Format the number with 2 decimal places\n",
    "    s = f\"{number:.2f}\"\n",
    "    # Remove the decimal point\n",
    "    s = s.replace('.', '')\n",
    "    if number == kappa2mass(0.247):\n",
    "        s = '0024'\n",
    "    return s"
   ]
  },
  {
   "cell_type": "code",
   "execution_count": 6,
   "id": "390baf3f-c153-4e4f-88f3-df253c664b42",
   "metadata": {
    "scrolled": true
   },
   "outputs": [
    {
     "data": {
      "text/plain": [
       "0.016129032258064502"
      ]
     },
     "execution_count": 6,
     "metadata": {},
     "output_type": "execute_result"
    }
   ],
   "source": [
    "kappa2mass(0.248)"
   ]
  },
  {
   "cell_type": "code",
   "execution_count": 7,
   "id": "b65cd25d-262a-45bc-9a8e-54687728f1b7",
   "metadata": {},
   "outputs": [
    {
     "data": {
      "text/plain": [
       "'002'"
      ]
     },
     "execution_count": 7,
     "metadata": {},
     "output_type": "execute_result"
    }
   ],
   "source": [
    "format_number(kappa2mass(0.248))"
   ]
  },
  {
   "cell_type": "code",
   "execution_count": 9,
   "id": "3b82900f-b124-44df-b201-aa7433533ac0",
   "metadata": {},
   "outputs": [
    {
     "data": {
      "image/png": "[encoded data removed]",
      "text/plain": [
       "<Figure size 640x480 with 1 Axes>"
      ]
     },
     "metadata": {},
     "output_type": "display_data"
    }
   ],
   "source": [
    "beta, Nx, Nt = 4, 64, 64\n",
    "#masses = [kappa2mass(0.259),kappa2mass(0.255),kappa2mass(0.252),kappa2mass(0.251),kappa2mass(0.248),kappa2mass(0.247)]\n",
    "masses = [-0.0933]\n",
    "\n",
    "plt.title(r'Correlation function, $N_x$={0}, $N_t={1}$, $\\beta$={2}'.format(Nx,Nt,beta))\n",
    "plt.ylabel(r'$|c(t)|$')\n",
    "plt.xlabel(r\"$t$\")\n",
    "\n",
    "for m0 in masses:\n",
    "    path = 'confs/b{0}_{1}x{2}/2D_U1_Ns{1}_Nt{2}_b{0}_m{3}_corr.txt'.format(beta,Nx,Nt,format_number(m0))\n",
    "    #path = 'build/b{0}_{1}x{2}/2D_U1_Ns{1}_Nt{2}_b{0}_m{3}_corr.txt'.format(beta,Nx,Nt,format_number(m0))\n",
    "    t, Corr, dCorr = Datos(path)\n",
    "    Corr = abs(Corr)\n",
    "    plt.errorbar(t,Corr,yerr=dCorr,\\\n",
    "        fmt='*',markersize='5',elinewidth=0.5,solid_capstyle='projecting',label='$m_0=${0}'.format(np.round(m0,3)), capsize=1.5)\n",
    "plt.yscale('log')\n",
    "plt.legend()\n",
    "plt.show()"
   ]
  },
  {
   "cell_type": "code",
   "execution_count": 10,
   "id": "39fa06bd-b92e-4eee-b568-53231f9ddffd",
   "metadata": {
    "scrolled": true
   },
   "outputs": [
    {
     "name": "stdout",
     "output_type": "stream",
     "text": [
      "C(0)= 0.08796682 +- 0.002695447\n",
      "C(1)= 0.03881553 +- 0.002248083\n",
      "C(2)= 0.02843914 +- 0.002191272\n",
      "C(3)= 0.0233785 +- 0.001892085\n",
      "C(4)= 0.01980467 +- 0.001549882\n",
      "C(5)= 0.01718065 +- 0.001387891\n",
      "C(6)= 0.01508718 +- 0.00121242\n",
      "C(7)= 0.01327245 +- 0.001090334\n",
      "C(8)= 0.01193865 +- 0.001057795\n",
      "C(9)= 0.01107641 +- 0.00105902\n",
      "C(10)= 0.01011689 +- 0.0009750119\n",
      "C(11)= 0.009105094 +- 0.0008435601\n",
      "C(12)= 0.008439606 +- 0.0008023453\n",
      "C(13)= 0.007914309 +- 0.0007883985\n",
      "C(14)= 0.007390722 +- 0.0007815762\n",
      "C(15)= 0.006894991 +- 0.0007992746\n",
      "C(16)= 0.006347072 +- 0.0007585033\n",
      "C(17)= 0.0058732 +- 0.0007409347\n",
      "C(18)= 0.005508345 +- 0.0007839541\n",
      "C(19)= 0.005256333 +- 0.0008533324\n",
      "C(20)= 0.004843256 +- 0.0008117801\n",
      "C(21)= 0.004346466 +- 0.0007064692\n",
      "C(22)= 0.003935502 +- 0.0006164268\n",
      "C(23)= 0.003584144 +- 0.0005614244\n",
      "C(24)= 0.003269091 +- 0.0005076185\n",
      "C(25)= 0.003036754 +- 0.0004693733\n",
      "C(26)= 0.002891608 +- 0.0004671765\n",
      "C(27)= 0.002681262 +- 0.0004244702\n",
      "C(28)= 0.002497997 +- 0.0003952128\n",
      "C(29)= 0.002494265 +- 0.0004380198\n",
      "C(30)= 0.002630537 +- 0.0005216362\n",
      "C(31)= 0.002668815 +- 0.0005232144\n",
      "C(32)= 0.002677854 +- 0.000479654\n",
      "C(33)= 0.002679692 +- 0.0004373426\n",
      "C(34)= 0.002667573 +- 0.0004114941\n",
      "C(35)= 0.002672329 +- 0.0004057954\n",
      "C(36)= 0.002704525 +- 0.0004266741\n",
      "C(37)= 0.002763623 +- 0.0004460989\n",
      "C(38)= 0.002909437 +- 0.0004842504\n",
      "C(39)= 0.003054593 +- 0.0004871581\n",
      "C(40)= 0.003223418 +- 0.0004786272\n",
      "C(41)= 0.003485237 +- 0.0005006907\n",
      "C(42)= 0.00386796 +- 0.0005667706\n",
      "C(43)= 0.004282349 +- 0.0006778893\n",
      "C(44)= 0.004684177 +- 0.0008055517\n",
      "C(45)= 0.005093736 +- 0.0008625811\n",
      "C(46)= 0.005544378 +- 0.000849321\n",
      "C(47)= 0.005930809 +- 0.0008203144\n",
      "C(48)= 0.006277359 +- 0.0008101346\n",
      "C(49)= 0.006723163 +- 0.0008572587\n",
      "C(50)= 0.007355054 +- 0.0009517014\n",
      "C(51)= 0.008039753 +- 0.001029408\n",
      "C(52)= 0.008738961 +- 0.001064003\n",
      "C(53)= 0.009805336 +- 0.001181668\n",
      "C(54)= 0.01088243 +- 0.001236377\n",
      "C(55)= 0.01191332 +- 0.001243655\n",
      "C(56)= 0.01336804 +- 0.001410657\n",
      "C(57)= 0.01541292 +- 0.001625102\n",
      "C(58)= 0.01779751 +- 0.001801515\n",
      "C(59)= 0.02022379 +- 0.001956142\n",
      "C(60)= 0.02253366 +- 0.00201951\n",
      "C(61)= 0.02495248 +- 0.00197466\n",
      "C(62)= 0.02899787 +- 0.001963162\n",
      "C(63)= 0.0388695 +- 0.002015321\n"
     ]
    }
   ],
   "source": [
    "for t in range(Nt):\n",
    "    print('C({0})= {1} +- {2}'.format(t,Corr[t],dCorr[t]))"
   ]
  },
  {
   "cell_type": "code",
   "execution_count": 11,
   "id": "110b6041-faa0-4bb6-8b9f-382b2aea3e3e",
   "metadata": {},
   "outputs": [
    {
     "name": "stdout",
     "output_type": "stream",
     "text": [
      "Solution not found for t=32\n",
      "Solution not found for t=33\n",
      "m0 = -0.093, kappa = 0.26223317774164784,  mpi = 0.098 +- 0.032\n"
     ]
    },
    {
     "name": "stderr",
     "output_type": "stream",
     "text": [
      "/usr/local/lib64/python3.11/site-packages/scipy/optimize/_root_scalar.py:298: RuntimeWarning: Tolerance of 1.4988010832439613e-15 reached.\n",
      "  r, sol = methodc(f, x0, args=args, fprime=None, fprime2=None,\n",
      "/tmp/ipykernel_592014/397838015.py:16: RuntimeWarning: overflow encountered in cosh\n",
      "  return Corr[t]/Corr[(t+1)%Nt] - np.cosh(x * (t-Nt/2))/ np.cosh(x * ( (t+1) - Nt/2 ))\n",
      "/tmp/ipykernel_592014/397838015.py:16: RuntimeWarning: invalid value encountered in scalar divide\n",
      "  return Corr[t]/Corr[(t+1)%Nt] - np.cosh(x * (t-Nt/2))/ np.cosh(x * ( (t+1) - Nt/2 ))\n"
     ]
    },
    {
     "data": {
      "image/png": "[encoded data removed]",
      "text/plain": [
       "<Figure size 960x720 with 1 Axes>"
      ]
     },
     "metadata": {},
     "output_type": "display_data"
    }
   ],
   "source": [
    "fig = plt.figure(dpi=150)\n",
    "plt.title(r'Effective mass, $N_x$={0}, $N_t={1}$, $\\beta$={2}'.format(Nx,Nt,beta))\n",
    "plt.ylabel(r'$m_{eff}(t)$')\n",
    "plt.xlabel(r\"$t$\")\n",
    "\n",
    "for m0 in masses:\n",
    "    path = 'confs/b{0}_{1}x{2}/2D_U1_Ns{1}_Nt{2}_b{0}_m{3}_corr.txt'.format(beta,Nx,Nt,format_number(m0))\n",
    "    #path = 'build/b{0}_{1}x{2}/2D_U1_Ns{1}_Nt{2}_b{0}_m{3}_corr.txt'.format(beta,Nx,Nt,format_number(m0))\n",
    "    t, Corr, dCorr = Datos(path)\n",
    "    Corr = abs(Corr)\n",
    "    meff = EffectiveMass(Corr,Nt)\n",
    "    plt.errorbar(t,meff,yerr=meff*0,\\\n",
    "        fmt='*',markersize='5',elinewidth=0.5,solid_capstyle='projecting',label='$m_0=${0}'.format(np.round(m0,3)), capsize=1.5)\n",
    "    print(\"m0 = {0}, kappa = {1},  mpi = {2} +- {3}\".format(np.round(m0,3),mass2kappa(m0), \n",
    "                                                                     np.round(np.mean(meff[11:30]),3),\n",
    "                                                                    np.round(np.std(meff[11:30]),3)))\n",
    "#plt.yscale('log')\n",
    "plt.legend() \n",
    "plt.show()\n",
    "#fig.savefig(\"meff.pdf\")"
   ]
  },
  {
   "cell_type": "code",
   "execution_count": 11,
   "id": "e73ef325-700c-4e64-b62e-01add9e6e7c8",
   "metadata": {},
   "outputs": [
    {
     "name": "stdout",
     "output_type": "stream",
     "text": [
      "mpi=0.377 +- 0.007\n"
     ]
    }
   ],
   "source": [
    "print(\"mpi={0} +- {1}\".format(np.round(0.3773428923847352,3),np.round(0.0068873628520349705,3))) "
   ]
  },
  {
   "cell_type": "code",
   "execution_count": null,
   "id": "78c8f7f8-83d0-4ce9-9470-882a03bf2309",
   "metadata": {},
   "outputs": [],
   "source": [
    "#popt, pcov = curve_fit(func, np.arange(Nt)[4:8], Corr[4:8],p0=[0.1,0.1])\n",
    "#print(popt)\n",
    "#plt.plot(np.arange(Nt), func(np.arange(Nt), *popt), 'r-',\n",
    "#         label='fit: a=%5.3f, b=%5.3f'% tuple(popt))\n",
    "#plt.scatter(np.arange(Nt),Corr)\n",
    "#plt.yscale('log')"
   ]
  },
  {
   "cell_type": "markdown",
   "id": "93135d88-30f5-468e-815e-46c904d284ef",
   "metadata": {},
   "source": [
    "## Fortran vs C++ results\n",
    "\n",
    "Comparing my simulation results with the Fortran code which I used long time ago an which is tested"
   ]
  },
  {
   "cell_type": "code",
   "execution_count": null,
   "id": "b8d93aef-b5c1-44e7-bb29-36d0090d3c93",
   "metadata": {},
   "outputs": [],
   "source": [
    "m0 = np.array([kappa2mass(0.25),kappa2mass(0.255),kappa2mass(0.26),kappa2mass(0.265)])\n",
    "mpi_C = np.array([0.5902800006825173,0.532153301674059, 0.439023713759679, 0.3518992029346969  ])\n",
    "dmpi_C = np.array([0.03879288389493793,0.04257417738305564, 0.01704753613144535, 0.00926040989633477 ]) #I don't use Jackknife here, only a naive error implementation \n",
    "\n",
    "mpi_F = np.array([0.59132032615137209,  0.52376242060378120,  0.45498548094226249, 0.37063943725059129])         \n",
    "dmpi_F = np.array([3.0800773884529045E-003, 2.7502998222633974E-003, 1.9926772819619885E-002, 1.6938266250340936E-002 ]) \n",
    "\n",
    "fig = plt.figure(dpi=150)\n",
    "plt.title(r'$m_\\pi$, $N_x$={0}, $N_t={1}$, $\\beta$={2}'.format(Nx,Nt,beta))\n",
    "plt.ylabel(r'$m_{\\pi}$')\n",
    "plt.xlabel(r\"$m_0$\")\n",
    "plt.errorbar(m0,mpi_C,yerr=dmpi_C,\\\n",
    "        fmt='*',markersize='5',elinewidth=0.5,solid_capstyle='projecting',label='C++', capsize=1.5)\n",
    "plt.errorbar(m0,mpi_F,yerr=dmpi_F,\\\n",
    "        fmt='*',markersize='5',elinewidth=0.5,solid_capstyle='projecting',label='Fortran', capsize=1.5)\n",
    "plt.legend()\n",
    "plt.show()\n",
    "#fig.savefig(\"Mpi.pdf\")\n",
    "\n",
    "\n",
    "\n",
    "SG_C = np.array([0.56054193699302834,0.55232957284976547,0.54831505751146892,0.538985 ])      \n",
    "dSG_C = np.array([0.0013579647475999619, 0.0016871376291731546,0.0017741588444640263,0.00154538])\n",
    "SG_F = np.array([0.55819E+00,0.55786E+00,0.54574E+00, 0.53850E+00   ]) \n",
    "dSG_F =  np.array([0.157E-02,0.125E-02,0.168E-02,0.141E-02  ])  \n",
    "\n",
    "fig = plt.figure(dpi=150)\n",
    "plt.title(r'Average gauge action/V, $N_x$={0}, $N_t={1}$, $\\beta$={2}'.format(Nx,Nt,beta))\n",
    "plt.ylabel(r'$S_G/(N_x N_t)$')\n",
    "plt.xlabel(r\"$m_0$\")\n",
    "plt.errorbar(m0,SG_C,yerr=dSG_C,\\\n",
    "        fmt='*',markersize='5',elinewidth=0.5,solid_capstyle='projecting',label='C++', capsize=1.5)\n",
    "plt.errorbar(m0,SG_F,yerr=dSG_F,\\\n",
    "        fmt='*',markersize='5',elinewidth=0.5,solid_capstyle='projecting',label='Fortran', capsize=1.5)\n",
    "plt.legend()\n",
    "plt.show()\n",
    "#fig.savefig(\"SG.pdf\")"
   ]
  },
  {
   "cell_type": "code",
   "execution_count": null,
   "id": "42ecee98-857d-4886-98c3-fbabe1c1b0dc",
   "metadata": {},
   "outputs": [],
   "source": []
  }
 ],
 "metadata": {
  "kernelspec": {
   "display_name": "Python 3 (ipykernel)",
   "language": "python",
   "name": "python3"
  },
  "language_info": {
   "codemirror_mode": {
    "name": "ipython",
    "version": 3
   },
   "file_extension": ".py",
   "mimetype": "text/x-python",
   "name": "python",
   "nbconvert_exporter": "python",
   "pygments_lexer": "ipython3",
   "version": "3.11.11"
  }
 },
 "nbformat": 4,
 "nbformat_minor": 5
}
